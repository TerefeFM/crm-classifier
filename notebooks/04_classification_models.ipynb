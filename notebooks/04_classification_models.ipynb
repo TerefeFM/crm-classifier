{
 "cells": [
  {
   "cell_type": "code",
   "execution_count": null,
   "id": "4eab2e6d",
   "metadata": {},
   "outputs": [],
   "source": [
    "from pyspark.sql import SparkSession\n",
    "from pyspark.ml.classification import LogisticRegression, DecisionTreeClassifier, RandomForestClassifier\n",
    "from pyspark.ml.evaluation import MulticlassClassificationEvaluator\n",
    "\n",
    "spark = SparkSession.builder.appName(\"CRMClassifier-Models\").getOrCreate()\n",
    "df = spark.read.parquet(\"../data/crm_features.parquet\")\n",
    "\n",
    "train, test = df.randomSplit([0.8, 0.2], seed=42)\n",
    "models = {\n",
    "    \"LogisticRegression\": LogisticRegression(featuresCol=\"features\", labelCol=\"label\", maxIter=20),\n",
    "    \"DecisionTree\": DecisionTreeClassifier(featuresCol=\"features\", labelCol=\"label\"),\n",
    "    \"RandomForest\": RandomForestClassifier(featuresCol=\"features\", labelCol=\"label\", numTrees=10)\n",
    "}\n",
    "\n",
    "evaluator = MulticlassClassificationEvaluator(labelCol=\"label\", predictionCol=\"prediction\", metricName=\"accuracy\")\n",
    "\n",
    "for name, clf in models.items():\n",
    "    model = clf.fit(train)\n",
    "    predictions = model.transform(test)\n",
    "    acc = evaluator.evaluate(predictions)\n",
    "    print(f\"{name} Accuracy: {acc:.4f}\")"
   ]
  }
 ],
 "metadata": {},
 "nbformat": 4,
 "nbformat_minor": 5
}
