{
 "cells": [
  {
   "cell_type": "code",
   "execution_count": null,
   "id": "277a9a8a",
   "metadata": {},
   "outputs": [],
   "source": [
    "import os\n",
    "from pyspark.sql import SparkSession\n",
    "from pyspark.ml.classification import RandomForestClassifier, RandomForestClassificationModel\n",
    "\n",
    "spark = SparkSession.builder.appName(\"CRMClassifier-Deployment\").getOrCreate()\n",
    "model_path = \"../data/rf_model\"\n",
    "data_path = \"../data/crm_features.parquet\"\n",
    "\n",
    "df = spark.read.parquet(data_path)\n",
    "train, test = df.randomSplit([0.8, 0.2], seed=42)\n",
    "\n",
    "if os.path.exists(model_path):\n",
    "    rf = RandomForestClassificationModel.load(model_path)\n",
    "else:\n",
    "    rf = RandomForestClassifier(featuresCol=\"features\", labelCol=\"label\", numTrees=20).fit(train)\n",
    "    rf.save(model_path)\n",
    "    print(\"✅ Model trained and saved.\")\n",
    "\n",
    "sample = test.limit(5)\n",
    "predictions = rf.transform(sample)\n",
    "predictions.select(\"features\", \"prediction\").show()"
   ]
  }
 ],
 "metadata": {},
 "nbformat": 4,
 "nbformat_minor": 5
}
