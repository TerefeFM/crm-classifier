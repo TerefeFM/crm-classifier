{
 "cells": [
  {
   "cell_type": "code",
   "execution_count": null,
   "id": "9c86b130",
   "metadata": {},
   "outputs": [],
   "source": [
    "from pyspark.sql import SparkSession\n",
    "from pyspark.ml.classification import RandomForestClassifier\n",
    "from pyspark.ml.evaluation import MulticlassClassificationEvaluator\n",
    "\n",
    "spark = SparkSession.builder.appName(\"CRMClassifier-Evaluation\").getOrCreate()\n",
    "df = spark.read.parquet(\"../data/crm_features.parquet\")\n",
    "\n",
    "train, test = df.randomSplit([0.8, 0.2], seed=42)\n",
    "rf = RandomForestClassifier(featuresCol=\"features\", labelCol=\"label\", numTrees=20)\n",
    "model = rf.fit(train)\n",
    "predictions = model.transform(test)\n",
    "\n",
    "evaluator = MulticlassClassificationEvaluator(labelCol=\"label\", predictionCol=\"prediction\", metricName=\"accuracy\")\n",
    "acc = evaluator.evaluate(predictions)\n",
    "print(f\"RandomForest Accuracy: {acc:.4f}\")\n",
    "\n",
    "predictions.select(\"features\", \"label\", \"prediction\").show()"
   ]
  }
 ],
 "metadata": {},
 "nbformat": 4,
 "nbformat_minor": 5
}
