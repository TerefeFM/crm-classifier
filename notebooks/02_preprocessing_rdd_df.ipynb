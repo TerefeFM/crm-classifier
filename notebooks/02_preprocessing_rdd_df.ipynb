{
 "cells": [
  {
   "cell_type": "code",
   "execution_count": null,
   "id": "210c05ac",
   "metadata": {},
   "outputs": [],
   "source": [
    "from pyspark.sql import SparkSession\n",
    "from pyspark.sql.functions import col, StringIndexer\n",
    "\n",
    "spark = SparkSession.builder.appName(\"CRMClassifier-Preprocessing\").getOrCreate()\n",
    "df_spark = spark.read.parquet(\"../data/crm_ingested.parquet\")\n",
    "\n",
    "indexer = StringIndexer(inputCol=\"region\", outputCol=\"region_index\")\n",
    "df_indexed = indexer.fit(df_spark).transform(df_spark)\n",
    "\n",
    "indexer_risk = StringIndexer(inputCol=\"risk\", outputCol=\"label\")\n",
    "df_final = indexer_risk.fit(df_indexed).transform(df_indexed)\n",
    "\n",
    "df_final.show()\n",
    "df_final.printSchema()\n",
    "df_final.write.mode(\"overwrite\").parquet(\"../data/crm_preprocessed.parquet\")"
   ]
  }
 ],
 "metadata": {},
 "nbformat": 4,
 "nbformat_minor": 5
}
