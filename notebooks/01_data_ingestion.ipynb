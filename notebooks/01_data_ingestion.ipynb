{
 "cells": [
  {
   "cell_type": "code",
   "execution_count": null,
   "id": "8fc9c092",
   "metadata": {},
   "outputs": [],
   "source": [
    "import os\n",
    "from pyspark.sql import SparkSession\n",
    "from pyspark.sql.functions import col\n",
    "\n",
    "spark = SparkSession.builder.appName(\"CRMClassifier-DataIngestion\").getOrCreate()\n",
    "\n",
    "data_path = \"../data/crm_sample.csv\"\n",
    "if not os.path.exists(\"../data\"):\n",
    "    os.makedirs(\"../data\")\n",
    "\n",
    "if not os.path.exists(data_path):\n",
    "    import pandas as pd\n",
    "    df = pd.DataFrame({\n",
    "        \"taxpayer_id\": range(1, 11),\n",
    "        \"income\": [50000, 120000, 70000, 45000, 300000, 150000, 80000, 40000, 95000, 60000],\n",
    "        \"transactions\": [5, 50, 20, 3, 120, 60, 15, 2, 35, 10],\n",
    "        \"region\": [\"A\", \"B\", \"A\", \"C\", \"B\", \"B\", \"C\", \"A\", \"C\", \"A\"],\n",
    "        \"risk\": [\"Low\", \"High\", \"Medium\", \"Low\", \"High\", \"High\", \"Medium\", \"Low\", \"Medium\", \"Low\"]\n",
    "    })\n",
    "    df.to_csv(data_path, index=False)\n",
    "\n",
    "df_spark = spark.read.csv(data_path, header=True, inferSchema=True)\n",
    "df_spark.printSchema()\n",
    "df_spark.show(5)\n",
    "print(\"Total records:\", df_spark.count())\n",
    "df_spark.groupBy(\"risk\").count().show()\n",
    "df_spark.filter(col(\"income\") > 100000).show()\n",
    "\n",
    "checkpoint_path = \"../data/crm_ingested.parquet\"\n",
    "df_spark.write.mode(\"overwrite\").parquet(checkpoint_path)\n",
    "print(\"✅ Data saved at\", checkpoint_path)"
   ]
  }
 ],
 "metadata": {},
 "nbformat": 4,
 "nbformat_minor": 5
}
