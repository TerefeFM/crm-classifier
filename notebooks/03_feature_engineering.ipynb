{
 "cells": [
  {
   "cell_type": "code",
   "execution_count": null,
   "id": "3958cbfb",
   "metadata": {},
   "outputs": [],
   "source": [
    "from pyspark.sql import SparkSession\n",
    "from pyspark.ml.feature import VectorAssembler\n",
    "\n",
    "spark = SparkSession.builder.appName(\"CRMClassifier-FeatureEngineering\").getOrCreate()\n",
    "df = spark.read.parquet(\"../data/crm_preprocessed.parquet\")\n",
    "\n",
    "assembler = VectorAssembler(inputCols=[\"income\", \"transactions\", \"region_index\"], outputCol=\"features\")\n",
    "df_features = assembler.transform(df)\n",
    "\n",
    "df_features.select(\"features\", \"label\").show(truncate=False)\n",
    "df_features.write.mode(\"overwrite\").parquet(\"../data/crm_features.parquet\")"
   ]
  }
 ],
 "metadata": {},
 "nbformat": 4,
 "nbformat_minor": 5
}
